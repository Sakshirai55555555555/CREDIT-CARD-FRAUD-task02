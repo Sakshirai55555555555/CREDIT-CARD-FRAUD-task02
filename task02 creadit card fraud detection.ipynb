{
  "nbformat": 4,
  "nbformat_minor": 0,
  "metadata": {
    "colab": {
      "provenance": []
    },
    "kernelspec": {
      "name": "python3",
      "display_name": "Python 3"
    },
    "language_info": {
      "name": "python"
    }
  },
  "cells": [
    {
      "cell_type": "code",
      "source": [
        "import pandas as pd\n",
        "from sklearn.model_selection import train_test_split\n",
        "from sklearn.preprocessing import StandardScaler"
      ],
      "metadata": {
        "id": "2EKY5-FCk17h"
      },
      "execution_count": null,
      "outputs": []
    },
    {
      "cell_type": "code",
      "source": [
        "data = pd.read_csv('/content/creditcard.csv')"
      ],
      "metadata": {
        "id": "WbX-HRxflKOd"
      },
      "execution_count": null,
      "outputs": []
    },
    {
      "cell_type": "code",
      "source": [
        "print(data.head())"
      ],
      "metadata": {
        "colab": {
          "base_uri": "https://localhost:8080/"
        },
        "id": "J-QewXuylO5O",
        "outputId": "6f9949f7-d1eb-4737-8561-1b537a6a3df7"
      },
      "execution_count": null,
      "outputs": [
        {
          "output_type": "stream",
          "name": "stdout",
          "text": [
            "   Time        V1        V2        V3        V4        V5        V6        V7  \\\n",
            "0   0.0 -1.359807 -0.072781  2.536347  1.378155 -0.338321  0.462388  0.239599   \n",
            "1   0.0  1.191857  0.266151  0.166480  0.448154  0.060018 -0.082361 -0.078803   \n",
            "2   1.0 -1.358354 -1.340163  1.773209  0.379780 -0.503198  1.800499  0.791461   \n",
            "3   1.0 -0.966272 -0.185226  1.792993 -0.863291 -0.010309  1.247203  0.237609   \n",
            "4   2.0 -1.158233  0.877737  1.548718  0.403034 -0.407193  0.095921  0.592941   \n",
            "\n",
            "         V8        V9  ...       V21       V22       V23       V24       V25  \\\n",
            "0  0.098698  0.363787  ... -0.018307  0.277838 -0.110474  0.066928  0.128539   \n",
            "1  0.085102 -0.255425  ... -0.225775 -0.638672  0.101288 -0.339846  0.167170   \n",
            "2  0.247676 -1.514654  ...  0.247998  0.771679  0.909412 -0.689281 -0.327642   \n",
            "3  0.377436 -1.387024  ... -0.108300  0.005274 -0.190321 -1.175575  0.647376   \n",
            "4 -0.270533  0.817739  ... -0.009431  0.798278 -0.137458  0.141267 -0.206010   \n",
            "\n",
            "        V26       V27       V28  Amount  Class  \n",
            "0 -0.189115  0.133558 -0.021053  149.62    0.0  \n",
            "1  0.125895 -0.008983  0.014724    2.69    0.0  \n",
            "2 -0.139097 -0.055353 -0.059752  378.66    0.0  \n",
            "3 -0.221929  0.062723  0.061458  123.50    0.0  \n",
            "4  0.502292  0.219422  0.215153   69.99    0.0  \n",
            "\n",
            "[5 rows x 31 columns]\n"
          ]
        }
      ]
    },
    {
      "cell_type": "code",
      "source": [
        "print(data.info())"
      ],
      "metadata": {
        "colab": {
          "base_uri": "https://localhost:8080/"
        },
        "id": "U9sX0UlplRJ1",
        "outputId": "6a72f3a1-ec38-490b-f9fb-918e8085d6f1"
      },
      "execution_count": null,
      "outputs": [
        {
          "output_type": "stream",
          "name": "stdout",
          "text": [
            "<class 'pandas.core.frame.DataFrame'>\n",
            "RangeIndex: 247578 entries, 0 to 247577\n",
            "Data columns (total 31 columns):\n",
            " #   Column  Non-Null Count   Dtype  \n",
            "---  ------  --------------   -----  \n",
            " 0   Time    247578 non-null  float64\n",
            " 1   V1      247578 non-null  float64\n",
            " 2   V2      247578 non-null  float64\n",
            " 3   V3      247578 non-null  float64\n",
            " 4   V4      247578 non-null  float64\n",
            " 5   V5      247578 non-null  float64\n",
            " 6   V6      247578 non-null  float64\n",
            " 7   V7      247578 non-null  float64\n",
            " 8   V8      247578 non-null  float64\n",
            " 9   V9      247578 non-null  float64\n",
            " 10  V10     247578 non-null  float64\n",
            " 11  V11     247578 non-null  float64\n",
            " 12  V12     247578 non-null  float64\n",
            " 13  V13     247578 non-null  float64\n",
            " 14  V14     247578 non-null  float64\n",
            " 15  V15     247578 non-null  float64\n",
            " 16  V16     247578 non-null  float64\n",
            " 17  V17     247578 non-null  float64\n",
            " 18  V18     247578 non-null  float64\n",
            " 19  V19     247578 non-null  float64\n",
            " 20  V20     247578 non-null  float64\n",
            " 21  V21     247578 non-null  float64\n",
            " 22  V22     247578 non-null  float64\n",
            " 23  V23     247578 non-null  float64\n",
            " 24  V24     247578 non-null  float64\n",
            " 25  V25     247578 non-null  float64\n",
            " 26  V26     247578 non-null  float64\n",
            " 27  V27     247578 non-null  float64\n",
            " 28  V28     247577 non-null  float64\n",
            " 29  Amount  247577 non-null  float64\n",
            " 30  Class   247577 non-null  float64\n",
            "dtypes: float64(31)\n",
            "memory usage: 58.6 MB\n",
            "None\n"
          ]
        }
      ]
    },
    {
      "cell_type": "code",
      "source": [
        "print(data['Class'].value_counts())"
      ],
      "metadata": {
        "colab": {
          "base_uri": "https://localhost:8080/"
        },
        "id": "1xamdGPHlTdG",
        "outputId": "049631f1-789f-43d4-ab71-2e536f6e535a"
      },
      "execution_count": null,
      "outputs": [
        {
          "output_type": "stream",
          "name": "stdout",
          "text": [
            "Class\n",
            "0.0    247128\n",
            "1.0       449\n",
            "Name: count, dtype: int64\n"
          ]
        }
      ]
    },
    {
      "cell_type": "code",
      "source": [
        "X = data.drop('Class', axis=1)\n",
        "y = data['Class']"
      ],
      "metadata": {
        "id": "9yzgTTu7lX6l"
      },
      "execution_count": null,
      "outputs": []
    },
    {
      "cell_type": "code",
      "source": [
        "scaler = StandardScaler()\n",
        "X_scaled = scaler.fit_transform(X)"
      ],
      "metadata": {
        "id": "NwCPb0BBlahz"
      },
      "execution_count": null,
      "outputs": []
    },
    {
      "cell_type": "code",
      "source": [
        "fraud = data[data['Class'] == 1]\n",
        "legit = data[data['Class'] == 0].sample(len(fraud))\n",
        "balanced_data = pd.concat([fraud, legit])\n",
        "X_balanced = balanced_data.drop('Class', axis=1)\n",
        "y_balanced = balanced_data['Class']"
      ],
      "metadata": {
        "id": "qvCzsTaelc4C"
      },
      "execution_count": null,
      "outputs": []
    },
    {
      "cell_type": "code",
      "source": [
        "X_balanced_scaled = scaler.fit_transform(X_balanced)\n"
      ],
      "metadata": {
        "id": "gLyB1lFblgra"
      },
      "execution_count": null,
      "outputs": []
    },
    {
      "cell_type": "code",
      "source": [
        "X_train, X_test, y_train, y_test = train_test_split(\n",
        "    X_balanced_scaled, y_balanced, test_size=0.3, random_state=42\n",
        ")\n"
      ],
      "metadata": {
        "id": "5JB_zhFUlk4k"
      },
      "execution_count": null,
      "outputs": []
    },
    {
      "cell_type": "code",
      "source": [
        "from sklearn.linear_model import LogisticRegression\n",
        "from sklearn.metrics import classification_report, confusion_matrix\n",
        "\n",
        "# Train Logistic Regression model\n",
        "logistic_model = LogisticRegression()\n",
        "logistic_model.fit(X_train, y_train)\n",
        "\n",
        "# Predict on the test set\n",
        "y_pred_logistic = logistic_model.predict(X_test)\n",
        "\n",
        "# Evaluate Logistic Regression model\n",
        "print(\"Logistic Regression Performance:\")\n",
        "print(classification_report(y_test, y_pred_logistic))\n",
        "print(confusion_matrix(y_test, y_pred_logistic))\n"
      ],
      "metadata": {
        "colab": {
          "base_uri": "https://localhost:8080/"
        },
        "id": "f7zf3ByclnIY",
        "outputId": "e1c48b00-e8f5-4c04-cf6d-7ba439c36137"
      },
      "execution_count": null,
      "outputs": [
        {
          "output_type": "stream",
          "name": "stdout",
          "text": [
            "Logistic Regression Performance:\n",
            "              precision    recall  f1-score   support\n",
            "\n",
            "         0.0       0.93      0.96      0.94       132\n",
            "         1.0       0.96      0.93      0.94       138\n",
            "\n",
            "    accuracy                           0.94       270\n",
            "   macro avg       0.94      0.94      0.94       270\n",
            "weighted avg       0.95      0.94      0.94       270\n",
            "\n",
            "[[127   5]\n",
            " [ 10 128]]\n"
          ]
        }
      ]
    },
    {
      "cell_type": "code",
      "source": [
        "from sklearn.tree import DecisionTreeClassifier\n",
        "\n",
        "# Train Decision Tree model\n",
        "decision_tree_model = DecisionTreeClassifier()\n",
        "decision_tree_model.fit(X_train, y_train)\n",
        "\n",
        "# Predict on the test set\n",
        "y_pred_tree = decision_tree_model.predict(X_test)\n",
        "\n",
        "# Evaluate Decision Tree model\n",
        "print(\"Decision Tree Performance:\")\n",
        "print(classification_report(y_test, y_pred_tree))\n",
        "print(confusion_matrix(y_test, y_pred_tree))\n"
      ],
      "metadata": {
        "colab": {
          "base_uri": "https://localhost:8080/"
        },
        "id": "cOOO-BwTlpNG",
        "outputId": "7db15466-8a61-4871-999b-6fdd47b90244"
      },
      "execution_count": null,
      "outputs": [
        {
          "output_type": "stream",
          "name": "stdout",
          "text": [
            "Decision Tree Performance:\n",
            "              precision    recall  f1-score   support\n",
            "\n",
            "         0.0       0.93      0.86      0.90       132\n",
            "         1.0       0.88      0.94      0.91       138\n",
            "\n",
            "    accuracy                           0.90       270\n",
            "   macro avg       0.91      0.90      0.90       270\n",
            "weighted avg       0.91      0.90      0.90       270\n",
            "\n",
            "[[114  18]\n",
            " [  8 130]]\n"
          ]
        }
      ]
    },
    {
      "cell_type": "code",
      "source": [
        "from sklearn.ensemble import RandomForestClassifier\n",
        "\n",
        "# Train Random Forest model\n",
        "random_forest_model = RandomForestClassifier()\n",
        "random_forest_model.fit(X_train, y_train)\n",
        "\n",
        "# Predict on the test set\n",
        "y_pred_forest = random_forest_model.predict(X_test)\n",
        "\n",
        "# Evaluate Random Forest model\n",
        "print(\"Random Forest Performance:\")\n",
        "print(classification_report(y_test, y_pred_forest))\n",
        "print(confusion_matrix(y_test, y_pred_forest))\n"
      ],
      "metadata": {
        "colab": {
          "base_uri": "https://localhost:8080/"
        },
        "id": "KN0hRFZJluu3",
        "outputId": "fa7f7647-5b7a-4d6b-82ad-7d6696259d45"
      },
      "execution_count": null,
      "outputs": [
        {
          "output_type": "stream",
          "name": "stdout",
          "text": [
            "Random Forest Performance:\n",
            "              precision    recall  f1-score   support\n",
            "\n",
            "         0.0       0.93      0.95      0.94       132\n",
            "         1.0       0.95      0.93      0.94       138\n",
            "\n",
            "    accuracy                           0.94       270\n",
            "   macro avg       0.94      0.94      0.94       270\n",
            "weighted avg       0.94      0.94      0.94       270\n",
            "\n",
            "[[125   7]\n",
            " [ 10 128]]\n"
          ]
        }
      ]
    },
    {
      "cell_type": "code",
      "source": [
        "pip install flask\n"
      ],
      "metadata": {
        "colab": {
          "base_uri": "https://localhost:8080/"
        },
        "id": "o9oLtEjplw3I",
        "outputId": "b892d202-35fd-4cb7-db32-4d06f16df4f2"
      },
      "execution_count": null,
      "outputs": [
        {
          "output_type": "stream",
          "name": "stdout",
          "text": [
            "Requirement already satisfied: flask in /usr/local/lib/python3.10/dist-packages (3.0.3)\n",
            "Requirement already satisfied: Werkzeug>=3.0.0 in /usr/local/lib/python3.10/dist-packages (from flask) (3.1.3)\n",
            "Requirement already satisfied: Jinja2>=3.1.2 in /usr/local/lib/python3.10/dist-packages (from flask) (3.1.4)\n",
            "Requirement already satisfied: itsdangerous>=2.1.2 in /usr/local/lib/python3.10/dist-packages (from flask) (2.2.0)\n",
            "Requirement already satisfied: click>=8.1.3 in /usr/local/lib/python3.10/dist-packages (from flask) (8.1.7)\n",
            "Requirement already satisfied: blinker>=1.6.2 in /usr/local/lib/python3.10/dist-packages (from flask) (1.9.0)\n",
            "Requirement already satisfied: MarkupSafe>=2.0 in /usr/local/lib/python3.10/dist-packages (from Jinja2>=3.1.2->flask) (3.0.2)\n"
          ]
        }
      ]
    },
    {
      "cell_type": "code",
      "source": [
        "import pickle\n",
        "# Save the models\n",
        "pickle.dump(logistic_model, open('logistic_model.pkl', 'wb'))\n",
        "pickle.dump(decision_tree_model, open('decision_tree_model.pkl', 'wb'))\n",
        "pickle.dump(random_forest_model, open('random_forest_model.pkl', 'wb'))\n",
        "\n",
        "# Save the scaler (used for data preprocessing)\n",
        "pickle.dump(scaler, open('scaler.pkl', 'wb'))\n",
        "\n",
        "print(\"Models and scaler saved as pickle files.\")\n"
      ],
      "metadata": {
        "colab": {
          "base_uri": "https://localhost:8080/"
        },
        "id": "C0eA5SOIlzw4",
        "outputId": "501d28d2-07b4-430d-c294-b93f4af3ef25"
      },
      "execution_count": null,
      "outputs": [
        {
          "output_type": "stream",
          "name": "stdout",
          "text": [
            "Models and scaler saved as pickle files.\n"
          ]
        }
      ]
    },
    {
      "cell_type": "code",
      "source": [
        "# Load models\n",
        "logistic_model = pickle.load(open('logistic_model.pkl', 'rb'))\n",
        "decision_tree_model = pickle.load(open('decision_tree_model.pkl', 'rb'))\n",
        "random_forest_model = pickle.load(open('random_forest_model.pkl', 'rb'))\n",
        "\n",
        "# Load scaler\n",
        "scaler = pickle.load(open('scaler.pkl', 'rb'))\n",
        "\n",
        "print(\"Models and scaler loaded successfully.\")\n"
      ],
      "metadata": {
        "colab": {
          "base_uri": "https://localhost:8080/"
        },
        "id": "_tOP0TWemED7",
        "outputId": "51cd1a07-7ab4-4f4f-a34c-e03be901e3e3"
      },
      "execution_count": null,
      "outputs": [
        {
          "output_type": "stream",
          "name": "stdout",
          "text": [
            "Models and scaler loaded successfully.\n"
          ]
        }
      ]
    },
    {
      "cell_type": "code",
      "source": [],
      "metadata": {
        "id": "Gu_NoAawmM8s"
      },
      "execution_count": null,
      "outputs": []
    }
  ]
}